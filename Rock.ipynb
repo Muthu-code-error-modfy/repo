{
  "nbformat": 4,
  "nbformat_minor": 0,
  "metadata": {
    "colab": {
      "provenance": [],
      "authorship_tag": "ABX9TyP1kUJF8EcIqCceS53iWG+e",
      "include_colab_link": true
    },
    "kernelspec": {
      "name": "python3",
      "display_name": "Python 3"
    },
    "language_info": {
      "name": "python"
    }
  },
  "cells": [
    {
      "cell_type": "markdown",
      "metadata": {
        "id": "view-in-github",
        "colab_type": "text"
      },
      "source": [
        "<a href=\"https://colab.research.google.com/github/Muthu-code-error-modfy/repo/blob/main/Rock.ipynb\" target=\"_parent\"><img src=\"https://colab.research.google.com/assets/colab-badge.svg\" alt=\"Open In Colab\"/></a>"
      ]
    },
    {
      "cell_type": "code",
      "execution_count": null,
      "metadata": {
        "colab": {
          "base_uri": "https://localhost:8080/"
        },
        "id": "pG8ex8ZwDVLA",
        "outputId": "18b94943-3b15-47e9-b120-1baa4df3da02"
      },
      "outputs": [
        {
          "output_type": "stream",
          "name": "stdout",
          "text": [
            "Enter rock, paper, or scissors: paper \n",
            "Invalid choice! Try again.\n"
          ]
        }
      ],
      "source": [
        "import random\n",
        "\n",
        "def play_game():\n",
        "    choices = [\"rock\", \"paper\", \"scissors\"]\n",
        "    user_choice = input(\"Enter rock, paper, or scissors: \").lower()\n",
        "    if user_choice not in choices:\n",
        "        print(\"Invalid choice! Try again.\")\n",
        "        return\n",
        "\n",
        "    computer_choice = random.choice(choices)\n",
        "    print(f\"Computer chose: {computer_choice}\")\n",
        "\n",
        "    if user_choice == computer_choice:\n",
        "        print(\"It's a tie!\")\n",
        "    elif (user_choice == \"rock\" and computer_choice == \"scissors\") or \\\n",
        "         (user_choice == \"paper\" and computer_choice == \"rock\") or \\\n",
        "         (user_choice == \"scissors\" and computer_choice == \"paper\"):\n",
        "        print(\"You win!\")\n",
        "    else:\n",
        "        print(\"Computer wins!\")\n",
        "\n",
        "# Run the game\n",
        "play_game()"
      ]
    }
  ]
}