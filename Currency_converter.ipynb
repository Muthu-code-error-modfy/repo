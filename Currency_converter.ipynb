{
  "nbformat": 4,
  "nbformat_minor": 0,
  "metadata": {
    "colab": {
      "provenance": [],
      "authorship_tag": "ABX9TyPDd9GYTKq49LN29+7wje0x",
      "include_colab_link": true
    },
    "kernelspec": {
      "name": "python3",
      "display_name": "Python 3"
    },
    "language_info": {
      "name": "python"
    }
  },
  "cells": [
    {
      "cell_type": "markdown",
      "metadata": {
        "id": "view-in-github",
        "colab_type": "text"
      },
      "source": [
        "<a href=\"https://colab.research.google.com/github/Muthu-code-error-modfy/repo/blob/main/Currency_converter.ipynb\" target=\"_parent\"><img src=\"https://colab.research.google.com/assets/colab-badge.svg\" alt=\"Open In Colab\"/></a>"
      ]
    },
    {
      "cell_type": "code",
      "source": [
        "\n",
        "import requests\n",
        "\n",
        "# Replace 'YOUR_API_KEY' with a valid API key from https://open.er-api.com/\n",
        "API_KEY = \"1cdb5cb12af6b7b736d90c31\"\n",
        "BASE_URL = \"https://open.er-api.com/v6/latest/\"\n",
        "\n",
        "def convert_currency(amount, from_currency, to_currency):\n",
        "    url = f\"{BASE_URL}{from_currency}?apikey={API_KEY}\"\n",
        "    response = requests.get(url)\n",
        "    data = response.json()\n",
        "\n",
        "    if \"rates\" in data and to_currency in data[\"rates\"]:\n",
        "        converted_amount = amount * data[\"rates\"][to_currency]\n",
        "        return f\"{amount} {from_currency} = {converted_amount:.2f} {to_currency}\"\n",
        "    else:\n",
        "        return \"Invalid currency code or API issue!\"\n",
        "\n",
        "# Example Usage\n",
        "amount = float(input(\"Enter amount: \"))\n",
        "from_currency = input(\"From Currency (e.g., USD): \").upper()\n",
        "to_currency = input(\"To Currency (e.g., EUR): \").upper()\n",
        "\n",
        "print(convert_currency(amount, from_currency, to_currency))"
      ],
      "metadata": {
        "colab": {
          "base_uri": "https://localhost:8080/"
        },
        "id": "p4J4P5VtCHfu",
        "outputId": "fc1b5d9b-fa2d-4bd0-f9ec-c98b0b80300e"
      },
      "execution_count": null,
      "outputs": [
        {
          "output_type": "stream",
          "name": "stdout",
          "text": [
            "Enter amount: 10\n",
            "From Currency (e.g., USD): IND\n",
            "To Currency (e.g., EUR): USD\n",
            "Invalid currency code or API issue!\n"
          ]
        }
      ]
    }
  ]
}